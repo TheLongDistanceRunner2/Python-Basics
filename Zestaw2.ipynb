{
  "nbformat": 4,
  "nbformat_minor": 0,
  "metadata": {
    "colab": {
      "name": "Zestaw2.ipynb",
      "provenance": [],
      "collapsed_sections": []
    },
    "kernelspec": {
      "name": "python3",
      "display_name": "Python 3"
    }
  },
  "cells": [
    {
      "cell_type": "markdown",
      "metadata": {
        "id": "1BcNpdVHIu2L"
      },
      "source": [
        "**ZESTAW 2:**"
      ]
    },
    {
      "cell_type": "markdown",
      "metadata": {
        "id": "eV2IzTjZJpro"
      },
      "source": [
        "**Zad 1:**"
      ]
    },
    {
      "cell_type": "code",
      "metadata": {
        "id": "RGct_mqGG3ke"
      },
      "source": [
        "import numpy as np"
      ],
      "execution_count": null,
      "outputs": []
    },
    {
      "cell_type": "code",
      "metadata": {
        "id": "752HuIOnLQoj",
        "outputId": "7b07ac0a-86e0-4cc3-99e6-3e307d6d47b4",
        "colab": {
          "base_uri": "https://localhost:8080/"
        }
      },
      "source": [
        "a = np.array([1, 4, 3, 5, 3])\n",
        "print(a.ndim)\n",
        "b = np.array([3.14, 4, 2, 3], dtype=np.int32)\n",
        "print(b.ndim)\n",
        "c = np.array([[2,4,6],\n",
        "              [1,2,3]])\n",
        "print(c.ndim)\n",
        "d = np.array([[-3.0,2.3],\n",
        "              [0.1,5.0],\n",
        "              [8.0,11.0]])\n",
        "print(d.ndim)\n",
        "e = np.array([[[[2,4],[1,2],[8,9]],\n",
        "               [[7,6],[-3,4],[0,8]]]])\n",
        "print(e.ndim)\n",
        "\n",
        "e"
      ],
      "execution_count": null,
      "outputs": [
        {
          "output_type": "stream",
          "text": [
            "1\n",
            "1\n",
            "2\n",
            "2\n",
            "4\n"
          ],
          "name": "stdout"
        },
        {
          "output_type": "execute_result",
          "data": {
            "text/plain": [
              "array([[[[ 2,  4],\n",
              "         [ 1,  2],\n",
              "         [ 8,  9]],\n",
              "\n",
              "        [[ 7,  6],\n",
              "         [-3,  4],\n",
              "         [ 0,  8]]]])"
            ]
          },
          "metadata": {
            "tags": []
          },
          "execution_count": 14
        }
      ]
    },
    {
      "cell_type": "markdown",
      "metadata": {
        "id": "350OkBOfOcww"
      },
      "source": [
        "**Zad 2:**\n",
        "\n",
        "funkcja shape() wypisuje wymiary macierzy!"
      ]
    },
    {
      "cell_type": "code",
      "metadata": {
        "id": "U-v7Bh4sOeZ4",
        "outputId": "81e198b0-7a10-46c2-cd3d-654a22a3e5de",
        "colab": {
          "base_uri": "https://localhost:8080/"
        }
      },
      "source": [
        "\n",
        "print(\"ndim: \", c.ndim)\n",
        "print(\"shape: \", c.shape)\n",
        "print(\"size: \", c.size)\n",
        "print(\"dtype: \", c.dtype)\n",
        "print(\"itemsize: \", c.itemsize)\n",
        "print(\"nbytes: \", c.nbytes)\n",
        "print(\"=============\")\n",
        "print(\"ndim: \", e.ndim)\n",
        "print(\"shape: \", e.shape)\n",
        "print(\"size: \", e.size)\n",
        "print(\"dtype: \", e.dtype)\n",
        "print(\"itemsize: \", e.itemsize)\n",
        "print(\"nbytes: \", e.nbytes)"
      ],
      "execution_count": null,
      "outputs": [
        {
          "output_type": "stream",
          "text": [
            "ndim:  2\n",
            "shape:  (2, 3)\n",
            "size:  6\n",
            "dtype:  int64\n",
            "itemsize:  8\n",
            "nbytes:  48\n",
            "=============\n",
            "ndim:  4\n",
            "shape:  (1, 2, 3, 2)\n",
            "size:  12\n",
            "dtype:  int64\n",
            "itemsize:  8\n",
            "nbytes:  96\n"
          ],
          "name": "stdout"
        }
      ]
    },
    {
      "cell_type": "markdown",
      "metadata": {
        "id": "P0xmg8SRQT1L"
      },
      "source": [
        "**Zad 3:**"
      ]
    },
    {
      "cell_type": "code",
      "metadata": {
        "id": "v0k1_GZPQU3K",
        "outputId": "ad98fbcf-02a7-4907-9af0-05c704d9f2a5",
        "colab": {
          "base_uri": "https://localhost:8080/"
        }
      },
      "source": [
        " X1 = np.random.random((4,3))\n",
        " X2 = np.zeros((2,1))\n",
        " X3 = np.full((6,2,1),2)\n",
        " X4 = np.random.randint(0,7,(5,8))\n",
        " X5 = np.eye(5)\n",
        "\n",
        " print(X1)\n",
        " print(\"======\")\n",
        " print(X2)\n",
        " print(\"======\")\n",
        " print(X3)\n",
        " print(\"======\")\n",
        " print(X4)\n",
        " print(\"======\")\n",
        " print(X5)\n"
      ],
      "execution_count": null,
      "outputs": [
        {
          "output_type": "stream",
          "text": [
            "[[0.35156219 0.21610947 0.66852604]\n",
            " [0.97089457 0.17457109 0.1226613 ]\n",
            " [0.43760114 0.38299281 0.36515227]\n",
            " [0.34242551 0.28359437 0.29414475]]\n",
            "======\n",
            "[[0.]\n",
            " [0.]]\n",
            "======\n",
            "[[[2]\n",
            "  [2]]\n",
            "\n",
            " [[2]\n",
            "  [2]]\n",
            "\n",
            " [[2]\n",
            "  [2]]\n",
            "\n",
            " [[2]\n",
            "  [2]]\n",
            "\n",
            " [[2]\n",
            "  [2]]\n",
            "\n",
            " [[2]\n",
            "  [2]]]\n",
            "======\n",
            "[[4 5 5 3 0 3 5 1]\n",
            " [5 5 6 2 6 2 0 5]\n",
            " [5 1 1 2 6 1 3 0]\n",
            " [0 0 1 2 0 0 1 4]\n",
            " [3 2 6 4 1 5 5 4]]\n",
            "======\n",
            "[[1. 0. 0. 0. 0.]\n",
            " [0. 1. 0. 0. 0.]\n",
            " [0. 0. 1. 0. 0.]\n",
            " [0. 0. 0. 1. 0.]\n",
            " [0. 0. 0. 0. 1.]]\n"
          ],
          "name": "stdout"
        }
      ]
    },
    {
      "cell_type": "markdown",
      "metadata": {
        "id": "vRS7vPmaTwUI"
      },
      "source": [
        "Odwołanie do konkretnego elementu tensora:"
      ]
    },
    {
      "cell_type": "code",
      "metadata": {
        "id": "dEK_m_zySBrh",
        "outputId": "91fdb2c2-bc12-45eb-d4fc-9e19e136e6bc",
        "colab": {
          "base_uri": "https://localhost:8080/"
        }
      },
      "source": [
        "print(\"@@@@@@@@@@@@@@@@@@@@@@@@@@@@@@@\\n cała tablica:\")\n",
        "print(X4)\n",
        "print(\"======\\n wiersz o indexie 4:\")\n",
        "print(X4[0]) # wiersz o indeksie 0\n",
        "print(\"======\\n element o indexach: [0,2]:\")\n",
        "print(X4[0,2]) # element o indexach 0 (wiersz) i 2 (kolumna)\n",
        "print(\"======\\n cała kolumna:\")\n",
        "print(X4[:,2]) # cała kolumna o indedksie 2\n",
        "print(\"======\\n cały wiersz:\")\n",
        "print(X4[3,:]) # cały wiersz o indedksie 3\n",
        "print(\"======\\n Minor macierzy:\")\n",
        "print(X4[1:3,2:5]) # wiersze: od indexu 1 do (3-1), kolumny: od indxu 2 do 4 "
      ],
      "execution_count": null,
      "outputs": [
        {
          "output_type": "stream",
          "text": [
            "@@@@@@@@@@@@@@@@@@@@@@@@@@@@@@@\n",
            " cała tablica:\n",
            "[[4 5 5 3 0 3 5 1]\n",
            " [5 5 6 2 6 2 0 5]\n",
            " [5 1 1 2 6 1 3 0]\n",
            " [0 0 1 2 0 0 1 4]\n",
            " [3 2 6 4 1 5 5 4]]\n",
            "======\n",
            " wiersz o indexie 4:\n",
            "[4 5 5 3 0 3 5 1]\n",
            "======\n",
            " element o indexach: [0,2]:\n",
            "5\n",
            "======\n",
            " cała kolumna:\n",
            "[5 6 1 1 6]\n",
            "======\n",
            " cały wiersz:\n",
            "[0 0 1 2 0 0 1 4]\n",
            "======\n",
            " Minor macierzy:\n",
            "[[6 2 6]\n",
            " [1 2 6]]\n"
          ],
          "name": "stdout"
        }
      ]
    },
    {
      "cell_type": "markdown",
      "metadata": {
        "id": "9XqpOSTbR_FS"
      },
      "source": [
        "**Zad 4:**\n",
        "\n",
        "Liczenie shape - sprawdzamy ile w najbardziej zewnętrznym nawiasie jest elementów oddzielonych przecinkami. Potem wchodzimy do poszczególnego elementu i dalej sprawdzamy ile jest w nim elementów oddzielonych przecinkami. Itd."
      ]
    },
    {
      "cell_type": "code",
      "metadata": {
        "id": "Vr-IK-GmTuw4",
        "outputId": "99247431-ce74-4d64-beeb-7d230621bc8a",
        "colab": {
          "base_uri": "https://localhost:8080/"
        }
      },
      "source": [
        " A = np.random.randint(0,7,(4,5))\n",
        " A"
      ],
      "execution_count": null,
      "outputs": [
        {
          "output_type": "execute_result",
          "data": {
            "text/plain": [
              "array([[6, 2, 2, 3, 3],\n",
              "       [6, 5, 4, 6, 3],\n",
              "       [0, 0, 0, 3, 5],\n",
              "       [1, 6, 6, 2, 3]])"
            ]
          },
          "metadata": {
            "tags": []
          },
          "execution_count": 29
        }
      ]
    },
    {
      "cell_type": "code",
      "metadata": {
        "id": "GGZxwkrLWVT-",
        "outputId": "569aebf9-fa47-4c1a-9e88-bc45fa0624f2",
        "colab": {
          "base_uri": "https://localhost:8080/"
        }
      },
      "source": [
        "B = A[:,1:3]\n",
        "B"
      ],
      "execution_count": null,
      "outputs": [
        {
          "output_type": "execute_result",
          "data": {
            "text/plain": [
              "array([[2, 2],\n",
              "       [5, 4],\n",
              "       [0, 0],\n",
              "       [6, 6]])"
            ]
          },
          "metadata": {
            "tags": []
          },
          "execution_count": 33
        }
      ]
    },
    {
      "cell_type": "code",
      "metadata": {
        "id": "MmA4EMVfW3K9",
        "outputId": "49029150-83e1-4582-a4c2-73ed562608b5",
        "colab": {
          "base_uri": "https://localhost:8080/"
        }
      },
      "source": [
        "C = A[1:3,1:]\n",
        "C"
      ],
      "execution_count": null,
      "outputs": [
        {
          "output_type": "execute_result",
          "data": {
            "text/plain": [
              "array([[5, 4, 6, 3],\n",
              "       [0, 0, 3, 5]])"
            ]
          },
          "metadata": {
            "tags": []
          },
          "execution_count": 34
        }
      ]
    },
    {
      "cell_type": "markdown",
      "metadata": {
        "id": "R_pBcj0aXHME"
      },
      "source": [
        "zmiana wartości danego elementu tensora:\n",
        "\n",
        "**zmiana wartości w macierzy B powoduje zmianę w macierzy A**"
      ]
    },
    {
      "cell_type": "code",
      "metadata": {
        "id": "a0uebHHqXJ3s",
        "outputId": "be4e7ef5-453f-4245-87c8-d423200b90ba",
        "colab": {
          "base_uri": "https://localhost:8080/"
        }
      },
      "source": [
        "B[0,0]= 333\n",
        "print(A)"
      ],
      "execution_count": null,
      "outputs": [
        {
          "output_type": "stream",
          "text": [
            "[[  6 333   2   3   3]\n",
            " [  6   5   4   6   3]\n",
            " [  0   0   0   3   5]\n",
            " [  1   6   6   2   3]]\n"
          ],
          "name": "stdout"
        }
      ]
    },
    {
      "cell_type": "markdown",
      "metadata": {
        "id": "05VHvv9EXuJr"
      },
      "source": [
        "**stworzenie kopii tablicy:**\n"
      ]
    },
    {
      "cell_type": "code",
      "metadata": {
        "id": "Ki9tDLGsXxcB",
        "outputId": "63d39674-f8d2-4737-de4a-a3368ebe59ca",
        "colab": {
          "base_uri": "https://localhost:8080/"
        }
      },
      "source": [
        "\n",
        "C1 = A[1:3,1:].copy()\n",
        "print(\"macierz A: \\n\", A, \"\\n\")\n",
        "C1[1,1] = 222\n",
        "print(\"macierz C: \\n\", C1, \"\\n\")\n",
        "print(\"macierz A: \\n\", A, \"\\n\")"
      ],
      "execution_count": null,
      "outputs": [
        {
          "output_type": "stream",
          "text": [
            "macierz A: \n",
            " [[  6 333   2   3   3]\n",
            " [  6   5   4   6   3]\n",
            " [  0   0   0   3   5]\n",
            " [  1   6   6   2   3]] \n",
            "\n",
            "macierz C: \n",
            " [[  5   4   6   3]\n",
            " [  0 222   3   5]] \n",
            "\n",
            "macierz A: \n",
            " [[  6 333   2   3   3]\n",
            " [  6   5   4   6   3]\n",
            " [  0   0   0   3   5]\n",
            " [  1   6   6   2   3]] \n",
            "\n"
          ],
          "name": "stdout"
        }
      ]
    },
    {
      "cell_type": "markdown",
      "metadata": {
        "id": "TnVVWtwhZWry"
      },
      "source": [
        "**Zad 5:**"
      ]
    },
    {
      "cell_type": "code",
      "metadata": {
        "id": "04jfzaSOYFey",
        "outputId": "416a2310-c628-4ad8-a32d-12e020126a3a",
        "colab": {
          "base_uri": "https://localhost:8080/"
        }
      },
      "source": [
        "D = np.array(np.arange(0,12))\n",
        "D"
      ],
      "execution_count": null,
      "outputs": [
        {
          "output_type": "execute_result",
          "data": {
            "text/plain": [
              "array([ 0,  1,  2,  3,  4,  5,  6,  7,  8,  9, 10, 11])"
            ]
          },
          "metadata": {
            "tags": []
          },
          "execution_count": 51
        }
      ]
    },
    {
      "cell_type": "code",
      "metadata": {
        "id": "Cdc9fTv3ZldC",
        "outputId": "943b12d2-f845-471c-8297-a6e15c234c6b",
        "colab": {
          "base_uri": "https://localhost:8080/"
        }
      },
      "source": [
        "print(D.reshape(2,6)) # stweorzenie macierzy [2,6]"
      ],
      "execution_count": null,
      "outputs": [
        {
          "output_type": "stream",
          "text": [
            "[[ 0  1  2  3  4  5]\n",
            " [ 6  7  8  9 10 11]]\n"
          ],
          "name": "stdout"
        }
      ]
    },
    {
      "cell_type": "code",
      "metadata": {
        "id": "FN_VCyqJZroa",
        "outputId": "ee7090d9-f67b-4f30-f2dd-3150e39b3496",
        "colab": {
          "base_uri": "https://localhost:8080/"
        }
      },
      "source": [
        "print(D.reshape(3,4)) # stweorzenie macierzy [3,4]"
      ],
      "execution_count": null,
      "outputs": [
        {
          "output_type": "stream",
          "text": [
            "[[ 0  1  2  3]\n",
            " [ 4  5  6  7]\n",
            " [ 8  9 10 11]]\n"
          ],
          "name": "stdout"
        }
      ]
    },
    {
      "cell_type": "code",
      "metadata": {
        "id": "wBpwQptSZ30w",
        "outputId": "9d5c35c4-db7e-4a7f-af49-d00be05a160a",
        "colab": {
          "base_uri": "https://localhost:8080/"
        }
      },
      "source": [
        "print(D.reshape(1,3,4)) # dodanie zewnetrznego nawiasu:"
      ],
      "execution_count": null,
      "outputs": [
        {
          "output_type": "stream",
          "text": [
            "[[[ 0  1  2  3]\n",
            "  [ 4  5  6  7]\n",
            "  [ 8  9 10 11]]]\n"
          ],
          "name": "stdout"
        }
      ]
    },
    {
      "cell_type": "code",
      "metadata": {
        "id": "N4SoyEKFZ-ER",
        "outputId": "5f9687af-5819-48a6-c04a-88f7041e09a6",
        "colab": {
          "base_uri": "https://localhost:8080/"
        }
      },
      "source": [
        "print(D.reshape(1,3,1,4,1))"
      ],
      "execution_count": null,
      "outputs": [
        {
          "output_type": "stream",
          "text": [
            "[[[[[ 0]\n",
            "    [ 1]\n",
            "    [ 2]\n",
            "    [ 3]]]\n",
            "\n",
            "\n",
            "  [[[ 4]\n",
            "    [ 5]\n",
            "    [ 6]\n",
            "    [ 7]]]\n",
            "\n",
            "\n",
            "  [[[ 8]\n",
            "    [ 9]\n",
            "    [10]\n",
            "    [11]]]]]\n"
          ],
          "name": "stdout"
        }
      ]
    },
    {
      "cell_type": "markdown",
      "metadata": {
        "id": "cPWohqKTahc4"
      },
      "source": [
        "**Zad 6:**\n",
        "\n",
        "**przy sklejaniu macierzy według odpowiedniej osi muszą zgadzać się (być równe) odpowiednie wymiary macierzy!**"
      ]
    },
    {
      "cell_type": "code",
      "metadata": {
        "id": "D8lhyHQxalga",
        "outputId": "43954369-aad2-48cd-f80c-46f336850faf",
        "colab": {
          "base_uri": "https://localhost:8080/"
        }
      },
      "source": [
        "c = np.array([[2,4], [1,2]])\n",
        "d = np.array([[-3,5],[-7,8]])\n",
        "\n",
        "print(\"macierz c: \\n\",c)\n",
        "print(\"=======\")\n",
        "print(\"macierz d: \\n\",d)\n",
        "\n",
        "print(\"@@@@@@@@@@@@@@@@@@@@@@@@\")\n",
        "print(np.concatenate([c,d],axis=0)) # doklejenie od dołu\n",
        "print(\"=========\")\n",
        "print(np.concatenate([c,d],axis=1)) # doklejenie z boku\n",
        "print(\"=========\")\n",
        "print(np.concatenate([d,c],axis=0)) # doklejenie z dołu\n",
        "print(\"=========\")\n",
        "print(np.concatenate([d,c],axis=1)) # doklejenie z boku\n"
      ],
      "execution_count": null,
      "outputs": [
        {
          "output_type": "stream",
          "text": [
            "macierz c: \n",
            " [[2 4]\n",
            " [1 2]]\n",
            "=======\n",
            "macierz d: \n",
            " [[-3  5]\n",
            " [-7  8]]\n",
            "@@@@@@@@@@@@@@@@@@@@@@@@\n",
            "[[ 2  4]\n",
            " [ 1  2]\n",
            " [-3  5]\n",
            " [-7  8]]\n",
            "=========\n",
            "[[ 2  4 -3  5]\n",
            " [ 1  2 -7  8]]\n",
            "=========\n",
            "[[-3  5]\n",
            " [-7  8]\n",
            " [ 2  4]\n",
            " [ 1  2]]\n",
            "=========\n",
            "[[-3  5  2  4]\n",
            " [-7  8  1  2]]\n"
          ],
          "name": "stdout"
        }
      ]
    },
    {
      "cell_type": "markdown",
      "metadata": {
        "id": "hee_ZOPjcUHV"
      },
      "source": [
        "**Zad 7:**"
      ]
    },
    {
      "cell_type": "code",
      "metadata": {
        "id": "HQ-SPJuUcW_X",
        "outputId": "f7cb94de-c1be-41db-8ee8-c42f37e5c63d",
        "colab": {
          "base_uri": "https://localhost:8080/"
        }
      },
      "source": [
        "print(d)\n",
        "print(\"=========\")\n",
        "print(d+6)\n",
        "print(\"=========\")\n",
        "print(d-8)\n",
        "print(\"=========\")\n",
        "print(d*8) # mnożenie macierzy nie w sensie algebraiczym, ale mnożenie odpowiednich elementów macierzy przez siebie:\n",
        "print(\"=========\")\n",
        "print(d/8)"
      ],
      "execution_count": null,
      "outputs": [
        {
          "output_type": "stream",
          "text": [
            "[[-3  5]\n",
            " [-7  8]]\n",
            "=========\n",
            "[[ 3 11]\n",
            " [-1 14]]\n",
            "=========\n",
            "[[-11  -3]\n",
            " [-15   0]]\n",
            "=========\n",
            "[[-24  40]\n",
            " [-56  64]]\n",
            "=========\n",
            "[[-0.375  0.625]\n",
            " [-0.875  1.   ]]\n"
          ],
          "name": "stdout"
        }
      ]
    },
    {
      "cell_type": "code",
      "metadata": {
        "id": "zl29HfFtdRQB",
        "outputId": "2520595a-e3e0-4642-fecc-8b2c651f0e7a",
        "colab": {
          "base_uri": "https://localhost:8080/"
        }
      },
      "source": [
        "print(d)\n",
        "print(\"=========\")\n",
        "print(abs(8))\n",
        "print(\"=========\")\n",
        "print(np.exp(d))\n",
        "print(\"=========\")\n",
        "print(np.power(d,4))\n",
        "print(\"=========\")\n",
        "print(np.log(d))"
      ],
      "execution_count": null,
      "outputs": [
        {
          "output_type": "stream",
          "text": [
            "[[-3  5]\n",
            " [-7  8]]\n",
            "=========\n",
            "8\n",
            "=========\n",
            "[[4.97870684e-02 1.48413159e+02]\n",
            " [9.11881966e-04 2.98095799e+03]]\n",
            "=========\n",
            "[[  81  625]\n",
            " [2401 4096]]\n",
            "=========\n",
            "[[       nan 1.60943791]\n",
            " [       nan 2.07944154]]\n"
          ],
          "name": "stdout"
        },
        {
          "output_type": "stream",
          "text": [
            "/usr/local/lib/python3.6/dist-packages/ipykernel_launcher.py:9: RuntimeWarning: invalid value encountered in log\n",
            "  if __name__ == '__main__':\n"
          ],
          "name": "stderr"
        }
      ]
    },
    {
      "cell_type": "markdown",
      "metadata": {
        "id": "nIi18cl3e4Kv"
      },
      "source": [
        "**Zad 8:**"
      ]
    },
    {
      "cell_type": "markdown",
      "metadata": {
        "id": "b2FTWa5Xeni1"
      },
      "source": [
        "**jeśli chcemy dodać do siebie macierze o różnych wymiarach, to python rozszerzy mniejszą macierz, uzupełniając ją tymi samymi elementami, które już w niej się znajdują! = broadcasting**"
      ]
    },
    {
      "cell_type": "code",
      "metadata": {
        "id": "Ia3drYTte7GN",
        "outputId": "96c816c5-7045-48e5-e937-629c4a6bedb7",
        "colab": {
          "base_uri": "https://localhost:8080/"
        }
      },
      "source": [
        "e = np.array([[0],[1],[2]])\n",
        "print(e,\"\\n\")\n",
        "\n",
        "f = np.array([7,8,9])\n",
        "print(f,\"\\n\\n\")\n",
        "\n",
        "print(e+f)"
      ],
      "execution_count": null,
      "outputs": [
        {
          "output_type": "stream",
          "text": [
            "[[0]\n",
            " [1]\n",
            " [2]] \n",
            "\n",
            "[7 8 9] \n",
            "\n",
            "\n",
            "[[ 7  8  9]\n",
            " [ 8  9 10]\n",
            " [ 9 10 11]]\n"
          ],
          "name": "stdout"
        }
      ]
    },
    {
      "cell_type": "code",
      "metadata": {
        "id": "WilExkaNfQ7V"
      },
      "source": [
        ""
      ],
      "execution_count": null,
      "outputs": []
    }
  ]
}