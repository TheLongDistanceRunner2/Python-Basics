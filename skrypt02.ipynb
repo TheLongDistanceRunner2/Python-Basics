{
  "nbformat": 4,
  "nbformat_minor": 0,
  "metadata": {
    "colab": {
      "name": "skrypt02.ipynb",
      "provenance": [],
      "collapsed_sections": []
    },
    "kernelspec": {
      "name": "python3",
      "display_name": "Python 3"
    }
  },
  "cells": [
    {
      "cell_type": "markdown",
      "metadata": {
        "id": "RhsbqM5GRB1j"
      },
      "source": [
        "**Zadanie 10**\n",
        "\n",
        "Sprawdzanie czy liczba jest >,<,= 0"
      ]
    },
    {
      "cell_type": "code",
      "metadata": {
        "id": "06XtdLj5Psg8",
        "outputId": "8eab6814-8f2f-4268-dc5c-a495ed86d63a",
        "colab": {
          "base_uri": "https://localhost:8080/",
          "height": 54
        }
      },
      "source": [
        "liczba = input(\"Wprowadź liczbę:\")\n",
        "if int(liczba) > 0:\n",
        "  print(\"Liczba jest większa od zera!\")\n",
        "elif int(liczba) < 0:\n",
        "  print(\"Liczba jest mniejsza od zera!\")\n",
        "else:\n",
        "  print(\"Liczba jest równa zero!\")\n"
      ],
      "execution_count": null,
      "outputs": [
        {
          "output_type": "stream",
          "text": [
            "Wprowadź liczbę:0\n",
            "Liczba jest równa zero!\n"
          ],
          "name": "stdout"
        }
      ]
    }
  ]
}