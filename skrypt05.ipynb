{
  "nbformat": 4,
  "nbformat_minor": 0,
  "metadata": {
    "colab": {
      "name": "skrypt05.ipynb",
      "provenance": [],
      "collapsed_sections": []
    },
    "kernelspec": {
      "name": "python3",
      "display_name": "Python 3"
    }
  },
  "cells": [
    {
      "cell_type": "markdown",
      "metadata": {
        "id": "7VWz9zpucmK0"
      },
      "source": [
        "**Zadanie 21**\n",
        "\n",
        "Wypisanie maksymalnego elementu listy:"
      ]
    },
    {
      "cell_type": "code",
      "metadata": {
        "id": "9eOLkTQKcix0",
        "outputId": "6c799ddf-64d2-48c1-d473-90fdc2dac2a4",
        "colab": {
          "base_uri": "https://localhost:8080/",
          "height": 35
        }
      },
      "source": [
        "lista = [1, 4, -6, 10, 11, 15, 20]\n",
        "\n",
        "for i in range(0, len(lista), 1):\n",
        "  if i == 0:\n",
        "    tmp = lista[0]\n",
        "  \n",
        "  if lista[i] > tmp:\n",
        "    tmp = lista[i]\n",
        "print(tmp)"
      ],
      "execution_count": null,
      "outputs": [
        {
          "output_type": "stream",
          "text": [
            "50\n"
          ],
          "name": "stdout"
        }
      ]
    }
  ]
}