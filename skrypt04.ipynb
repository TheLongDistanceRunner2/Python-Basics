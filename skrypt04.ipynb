{
  "nbformat": 4,
  "nbformat_minor": 0,
  "metadata": {
    "colab": {
      "name": "skrypt04.ipynb",
      "provenance": [],
      "collapsed_sections": []
    },
    "kernelspec": {
      "name": "python3",
      "display_name": "Python 3"
    }
  },
  "cells": [
    {
      "cell_type": "markdown",
      "metadata": {
        "id": "YaJfsbffbzFi"
      },
      "source": [
        "**Zadanie 20**\n",
        "\n",
        "Suma wszystkich elementów listy"
      ]
    },
    {
      "cell_type": "code",
      "metadata": {
        "id": "kQbkLcVobpsf",
        "outputId": "be9a17c2-7d1f-42dc-9d25-2778789f05e6",
        "colab": {
          "base_uri": "https://localhost:8080/",
          "height": 35
        }
      },
      "source": [
        "lista = [1, -4, -6, 10, 11, 15, 20]\n",
        "suma = 0\n",
        "for i in range(0, len(lista), 1):\n",
        "  suma += lista[i]\n",
        "print(suma)"
      ],
      "execution_count": null,
      "outputs": [
        {
          "output_type": "stream",
          "text": [
            "47\n"
          ],
          "name": "stdout"
        }
      ]
    }
  ]
}