{
  "nbformat": 4,
  "nbformat_minor": 0,
  "metadata": {
    "colab": {
      "name": "skrypt03.ipynb",
      "provenance": [],
      "collapsed_sections": []
    },
    "kernelspec": {
      "name": "python3",
      "display_name": "Python 3"
    }
  },
  "cells": [
    {
      "cell_type": "markdown",
      "metadata": {
        "id": "jvUJ9NDFRgUB"
      },
      "source": [
        "**Zadanie 11**\n",
        "\n",
        "Sprawdzanie czy liczba jest >,<,= 0"
      ]
    },
    {
      "cell_type": "code",
      "metadata": {
        "id": "0T4Bb1OTRh4m",
        "outputId": "547d2da9-bb8b-499b-ffc0-4b569303aa7d",
        "colab": {
          "base_uri": "https://localhost:8080/",
          "height": 90
        }
      },
      "source": [
        "a = float(input(\"Podaj a: \"))\n",
        "b = float(input(\"Podaj b: \"))\n",
        "c = float(input(\"Podaj c: \"))\n",
        "delta = b * b - 4 * a *c \n",
        "\n",
        "if float(delta) > 0.0:\n",
        "  print(\"Równanie ma 2 rozwiązania!\")\n",
        "elif float(delta) < 0.0:\n",
        "  print(\"Równanie nie ma rozwiązań w dziedzinie liczb rzeczywistych!\")\n",
        "else:\n",
        "  print(\"Równanie ma 1 rozwiązanie!\")\n"
      ],
      "execution_count": null,
      "outputs": [
        {
          "output_type": "stream",
          "text": [
            "Podaj a: 0\n",
            "Podaj b: 4\n",
            "Podaj c: 1\n",
            "Równanie ma 2 rozwiązania!\n"
          ],
          "name": "stdout"
        }
      ]
    }
  ]
}