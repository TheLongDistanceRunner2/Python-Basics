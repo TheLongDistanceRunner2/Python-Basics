{
  "nbformat": 4,
  "nbformat_minor": 0,
  "metadata": {
    "colab": {
      "name": "skrypt01.ipynb",
      "provenance": [],
      "collapsed_sections": []
    },
    "kernelspec": {
      "name": "python3",
      "display_name": "Python 3"
    }
  },
  "cells": [
    {
      "cell_type": "markdown",
      "metadata": {
        "id": "nUL6T41UON1i"
      },
      "source": [
        "**Zadanie 9.**\n",
        "\n",
        "Skrypt pozwalający prowdzić za pomocą klawiatury ciąg znaków i wypisujący jego długość:"
      ]
    },
    {
      "cell_type": "code",
      "metadata": {
        "id": "CSIVVDGjOJwH",
        "outputId": "2b034e92-3aba-4622-88e4-63f28c43c24d",
        "colab": {
          "base_uri": "https://localhost:8080/",
          "height": 54
        }
      },
      "source": [
        "text = input(\"Wprowadź jakiś tekst:\")\n",
        "print(\"Długość wprowadzonego tekstu to: \", len(text))\n"
      ],
      "execution_count": null,
      "outputs": [
        {
          "output_type": "stream",
          "text": [
            "Wprowadź jakiś tekst:pszczoła\n",
            "Długość wprowadzonego tekstu to:  8\n"
          ],
          "name": "stdout"
        }
      ]
    }
  ]
}