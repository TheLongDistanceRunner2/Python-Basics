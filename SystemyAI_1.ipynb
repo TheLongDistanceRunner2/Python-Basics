{
  "nbformat": 4,
  "nbformat_minor": 0,
  "metadata": {
    "colab": {
      "name": "SystemyAI_1.ipynb",
      "provenance": [],
      "collapsed_sections": []
    },
    "kernelspec": {
      "name": "python3",
      "display_name": "Python 3"
    }
  },
  "cells": [
    {
      "cell_type": "markdown",
      "metadata": {
        "id": "ZI_aOZxT3Dko"
      },
      "source": [
        "**Systemy AI 1 - Python**\n",
        "\n",
        "Zmienne, podstawowe operacje, operacje input-output"
      ]
    },
    {
      "cell_type": "markdown",
      "metadata": {
        "id": "KIQdCz5Pa-a4"
      },
      "source": [
        "**Zadanie 1:**"
      ]
    },
    {
      "cell_type": "code",
      "metadata": {
        "id": "O_WHZJLgbGgc",
        "outputId": "6b464c36-6570-4811-b8b2-15dd9f352602",
        "colab": {
          "base_uri": "https://localhost:8080/",
          "height": 35
        }
      },
      "source": [
        "b = 11.0\n",
        "B = \"Ala ma kota\"\n",
        "zm1 = 12\n",
        "zm2 = 4\n",
        "Zm3 = \"5\"\n",
        "print(b, B, zm1, zm2, Zm3)"
      ],
      "execution_count": null,
      "outputs": [
        {
          "output_type": "stream",
          "text": [
            "11.0 Ala ma kota 12 4 5\n"
          ],
          "name": "stdout"
        }
      ]
    },
    {
      "cell_type": "markdown",
      "metadata": {
        "id": "3kDMLsCKeO70"
      },
      "source": [
        "   (lub w ten sposób:)"
      ]
    },
    {
      "cell_type": "code",
      "metadata": {
        "id": "J-5hEcbSeT2c",
        "outputId": "2cb2cc03-da1a-425d-992a-3e3091a46c81",
        "colab": {
          "base_uri": "https://localhost:8080/",
          "height": 35
        }
      },
      "source": [
        "b, B, zm1, zm2, Zm3 = 11.0, \"Ala ma kota\", 12, 4, \"5\"\n",
        "print(b, B, zm1, zm2, Zm3)"
      ],
      "execution_count": null,
      "outputs": [
        {
          "output_type": "stream",
          "text": [
            "11.0 Ala ma kota 12 4 5\n"
          ],
          "name": "stdout"
        }
      ]
    },
    {
      "cell_type": "markdown",
      "metadata": {
        "id": "6NRfrEDscXmg"
      },
      "source": [
        "**Zadanie 2:**"
      ]
    },
    {
      "cell_type": "code",
      "metadata": {
        "id": "CNltsyCrcBAw",
        "outputId": "8bff1d21-437b-4488-9a95-1a5f8266a233",
        "colab": {
          "base_uri": "https://localhost:8080/",
          "height": 35
        }
      },
      "source": [
        "type(b), type(B), type(zm1), type(zm2) ,type(Zm3)"
      ],
      "execution_count": null,
      "outputs": [
        {
          "output_type": "execute_result",
          "data": {
            "text/plain": [
              "(float, str, int, int, str)"
            ]
          },
          "metadata": {
            "tags": []
          },
          "execution_count": 17
        }
      ]
    },
    {
      "cell_type": "markdown",
      "metadata": {
        "id": "zwSNJu9jc6sr"
      },
      "source": [
        "**Zadanie 3:**"
      ]
    },
    {
      "cell_type": "code",
      "metadata": {
        "id": "JMIhymkjc8nV",
        "outputId": "347c6fcb-e91c-4f7c-c041-5b92dabb53ef",
        "colab": {
          "base_uri": "https://localhost:8080/",
          "height": 35
        }
      },
      "source": [
        "krotka1 = (11.0, \"Ala ma kota\", 12, 4, \"5\")\n",
        "krotka1"
      ],
      "execution_count": null,
      "outputs": [
        {
          "output_type": "execute_result",
          "data": {
            "text/plain": [
              "(11.0, 'Ala ma kota', 12, 4, '5')"
            ]
          },
          "metadata": {
            "tags": []
          },
          "execution_count": 18
        }
      ]
    },
    {
      "cell_type": "markdown",
      "metadata": {
        "id": "J80_NnhreuoS"
      },
      "source": [
        "**Zadanie 4:**"
      ]
    },
    {
      "cell_type": "code",
      "metadata": {
        "id": "ci3SnLGKe9Cu",
        "outputId": "9f1f179c-fe3d-4e0c-d379-ac3d285ff7f2",
        "colab": {
          "base_uri": "https://localhost:8080/",
          "height": 35
        }
      },
      "source": [
        "zm1+zm2\n"
      ],
      "execution_count": null,
      "outputs": [
        {
          "output_type": "execute_result",
          "data": {
            "text/plain": [
              "16"
            ]
          },
          "metadata": {
            "tags": []
          },
          "execution_count": 22
        }
      ]
    },
    {
      "cell_type": "code",
      "metadata": {
        "id": "LppjAUpCfKdY",
        "outputId": "68a30844-ac45-477c-e2ea-96f28ccd407f",
        "colab": {
          "base_uri": "https://localhost:8080/",
          "height": 35
        }
      },
      "source": [
        "print(B+\" i psa\")"
      ],
      "execution_count": null,
      "outputs": [
        {
          "output_type": "stream",
          "text": [
            "Ala ma kota i psa\n"
          ],
          "name": "stdout"
        }
      ]
    },
    {
      "cell_type": "code",
      "metadata": {
        "id": "KQlQpyuVfMB7",
        "outputId": "872c32fe-3c62-4241-d6b6-940a99fb5d7c",
        "colab": {
          "base_uri": "https://localhost:8080/",
          "height": 35
        }
      },
      "source": [
        "b%zm2"
      ],
      "execution_count": null,
      "outputs": [
        {
          "output_type": "execute_result",
          "data": {
            "text/plain": [
              "3.0"
            ]
          },
          "metadata": {
            "tags": []
          },
          "execution_count": 24
        }
      ]
    },
    {
      "cell_type": "code",
      "metadata": {
        "id": "zZBsA0VAfUAx",
        "outputId": "5ac5d24d-f46b-4acc-b95d-4654f82023c3",
        "colab": {
          "base_uri": "https://localhost:8080/",
          "height": 35
        }
      },
      "source": [
        "b*zm1"
      ],
      "execution_count": null,
      "outputs": [
        {
          "output_type": "execute_result",
          "data": {
            "text/plain": [
              "132.0"
            ]
          },
          "metadata": {
            "tags": []
          },
          "execution_count": 25
        }
      ]
    },
    {
      "cell_type": "markdown",
      "metadata": {
        "id": "nLRaAz9wf8X_"
      },
      "source": [
        "- potęgowanie:"
      ]
    },
    {
      "cell_type": "code",
      "metadata": {
        "id": "IBYoPfh_fYeX",
        "outputId": "1e01ddf8-bd01-4a5b-cd14-6627caf267f5",
        "colab": {
          "base_uri": "https://localhost:8080/",
          "height": 35
        }
      },
      "source": [
        "b**zm1"
      ],
      "execution_count": null,
      "outputs": [
        {
          "output_type": "execute_result",
          "data": {
            "text/plain": [
              "3138428376721.0"
            ]
          },
          "metadata": {
            "tags": []
          },
          "execution_count": 26
        }
      ]
    },
    {
      "cell_type": "markdown",
      "metadata": {
        "id": "dGkPAh-Jgnwz"
      },
      "source": [
        "- konkatenacja stringa B zm1 razy:"
      ]
    },
    {
      "cell_type": "code",
      "metadata": {
        "id": "f6BlAZ1ygD8s",
        "outputId": "aeb42783-d621-4fc1-c5fa-b1325f6984b5",
        "colab": {
          "base_uri": "https://localhost:8080/",
          "height": 54
        }
      },
      "source": [
        "B*zm1"
      ],
      "execution_count": null,
      "outputs": [
        {
          "output_type": "execute_result",
          "data": {
            "application/vnd.google.colaboratory.intrinsic+json": {
              "type": "string"
            },
            "text/plain": [
              "'Ala ma kotaAla ma kotaAla ma kotaAla ma kotaAla ma kotaAla ma kotaAla ma kotaAla ma kotaAla ma kotaAla ma kotaAla ma kotaAla ma kota'"
            ]
          },
          "metadata": {
            "tags": []
          },
          "execution_count": 28
        }
      ]
    },
    {
      "cell_type": "markdown",
      "metadata": {
        "id": "yKb0CwUKgs00"
      },
      "source": [
        "- błąd:"
      ]
    },
    {
      "cell_type": "code",
      "metadata": {
        "id": "OzU-QPNtg0GX",
        "outputId": "3420895a-6ec2-4371-bc15-aa9e9146c573",
        "colab": {
          "base_uri": "https://localhost:8080/",
          "height": 172
        }
      },
      "source": [
        "B*Zm3"
      ],
      "execution_count": null,
      "outputs": [
        {
          "output_type": "error",
          "ename": "TypeError",
          "evalue": "ignored",
          "traceback": [
            "\u001b[0;31m---------------------------------------------------------------------------\u001b[0m",
            "\u001b[0;31mTypeError\u001b[0m                                 Traceback (most recent call last)",
            "\u001b[0;32m<ipython-input-29-9a1d340c2d6f>\u001b[0m in \u001b[0;36m<module>\u001b[0;34m()\u001b[0m\n\u001b[0;32m----> 1\u001b[0;31m \u001b[0mB\u001b[0m\u001b[0;34m*\u001b[0m\u001b[0mZm3\u001b[0m\u001b[0;34m\u001b[0m\u001b[0;34m\u001b[0m\u001b[0m\n\u001b[0m",
            "\u001b[0;31mTypeError\u001b[0m: can't multiply sequence by non-int of type 'str'"
          ]
        }
      ]
    },
    {
      "cell_type": "markdown",
      "metadata": {
        "id": "Gye_kvw5g-3W"
      },
      "source": [
        "**Zadanie 5**"
      ]
    },
    {
      "cell_type": "code",
      "metadata": {
        "id": "_dgRL-e8hEFo",
        "outputId": "3a71a92e-3d8d-4b23-ef05-dce656db2d2b",
        "colab": {
          "base_uri": "https://localhost:8080/",
          "height": 35
        }
      },
      "source": [
        "len(B)"
      ],
      "execution_count": null,
      "outputs": [
        {
          "output_type": "execute_result",
          "data": {
            "text/plain": [
              "11"
            ]
          },
          "metadata": {
            "tags": []
          },
          "execution_count": 30
        }
      ]
    },
    {
      "cell_type": "code",
      "metadata": {
        "id": "N1x0FDgehHyw",
        "outputId": "ae6a77cb-8978-4c13-e552-17e6fd624245",
        "colab": {
          "base_uri": "https://localhost:8080/",
          "height": 36
        }
      },
      "source": [
        "B[0]"
      ],
      "execution_count": null,
      "outputs": [
        {
          "output_type": "execute_result",
          "data": {
            "application/vnd.google.colaboratory.intrinsic+json": {
              "type": "string"
            },
            "text/plain": [
              "'A'"
            ]
          },
          "metadata": {
            "tags": []
          },
          "execution_count": 31
        }
      ]
    },
    {
      "cell_type": "code",
      "metadata": {
        "id": "n35wsDVKhLId",
        "outputId": "b6e79e41-a07c-42d8-f70b-2605e082b47b",
        "colab": {
          "base_uri": "https://localhost:8080/",
          "height": 36
        }
      },
      "source": [
        "B[1]"
      ],
      "execution_count": null,
      "outputs": [
        {
          "output_type": "execute_result",
          "data": {
            "application/vnd.google.colaboratory.intrinsic+json": {
              "type": "string"
            },
            "text/plain": [
              "'l'"
            ]
          },
          "metadata": {
            "tags": []
          },
          "execution_count": 32
        }
      ]
    },
    {
      "cell_type": "markdown",
      "metadata": {
        "id": "4yGgPnJDhSv5"
      },
      "source": [
        "- elementy stringa B od indexu 3 do 5:\n",
        "\n",
        "zapis B[n:m] oznacza elementy tablicy B od (n) do (m-1)\n"
      ]
    },
    {
      "cell_type": "code",
      "metadata": {
        "id": "1JB01CNdhNyz",
        "outputId": "8622d8d0-d9b3-4375-aea8-4025590d64ca",
        "colab": {
          "base_uri": "https://localhost:8080/",
          "height": 36
        }
      },
      "source": [
        "B[3:6]"
      ],
      "execution_count": null,
      "outputs": [
        {
          "output_type": "execute_result",
          "data": {
            "application/vnd.google.colaboratory.intrinsic+json": {
              "type": "string"
            },
            "text/plain": [
              "' ma'"
            ]
          },
          "metadata": {
            "tags": []
          },
          "execution_count": 38
        }
      ]
    },
    {
      "cell_type": "markdown",
      "metadata": {
        "id": "vJhQhl7jieDe"
      },
      "source": [
        "- elementy stringa B od 3 do końca:"
      ]
    },
    {
      "cell_type": "code",
      "metadata": {
        "id": "zR4uEBQRjv8U"
      },
      "source": [
        ""
      ],
      "execution_count": null,
      "outputs": []
    },
    {
      "cell_type": "code",
      "metadata": {
        "id": "RUHbYB9wifhA",
        "outputId": "4bfadd98-46c7-49d2-c698-cee532d15de8",
        "colab": {
          "base_uri": "https://localhost:8080/",
          "height": 36
        }
      },
      "source": [
        "B[3:]"
      ],
      "execution_count": null,
      "outputs": [
        {
          "output_type": "execute_result",
          "data": {
            "application/vnd.google.colaboratory.intrinsic+json": {
              "type": "string"
            },
            "text/plain": [
              "' ma kota'"
            ]
          },
          "metadata": {
            "tags": []
          },
          "execution_count": 34
        }
      ]
    },
    {
      "cell_type": "markdown",
      "metadata": {
        "id": "38YP-C1gipJq"
      },
      "source": [
        "- elementy stringa B od indexu 0 do indexu 6:"
      ]
    },
    {
      "cell_type": "code",
      "metadata": {
        "id": "7GcRw7EDivPf",
        "outputId": "959b6274-44cb-4b9c-ccd7-95027ddab2d0",
        "colab": {
          "base_uri": "https://localhost:8080/",
          "height": 36
        }
      },
      "source": [
        "B[:6]"
      ],
      "execution_count": null,
      "outputs": [
        {
          "output_type": "execute_result",
          "data": {
            "application/vnd.google.colaboratory.intrinsic+json": {
              "type": "string"
            },
            "text/plain": [
              "'Ala ma'"
            ]
          },
          "metadata": {
            "tags": []
          },
          "execution_count": 39
        }
      ]
    },
    {
      "cell_type": "markdown",
      "metadata": {
        "id": "8FdpqrgOkN0u"
      },
      "source": [
        "- przedostatni znaku stringa B:\n",
        "\n",
        "zapis B[-n] oznacza odwołanie do n znaku od końca tablicy B"
      ]
    },
    {
      "cell_type": "code",
      "metadata": {
        "id": "ku9KD3MakP7U",
        "outputId": "ce910bba-a18c-4a5a-b56f-07f96eb4d7ad",
        "colab": {
          "base_uri": "https://localhost:8080/",
          "height": 36
        }
      },
      "source": [
        "B[-2]"
      ],
      "execution_count": null,
      "outputs": [
        {
          "output_type": "execute_result",
          "data": {
            "application/vnd.google.colaboratory.intrinsic+json": {
              "type": "string"
            },
            "text/plain": [
              "'t'"
            ]
          },
          "metadata": {
            "tags": []
          },
          "execution_count": 44
        }
      ]
    },
    {
      "cell_type": "markdown",
      "metadata": {
        "id": "KBacvX9Vkwyz"
      },
      "source": [
        "**Zadanie 6:**"
      ]
    },
    {
      "cell_type": "markdown",
      "metadata": {
        "id": "60-aT8PYlPGY"
      },
      "source": [
        "- rzutowanie stringa na int:"
      ]
    },
    {
      "cell_type": "code",
      "metadata": {
        "id": "n7zM8FtGkzk-",
        "outputId": "34941d51-07f7-42d0-cc74-9b6686f80fc4",
        "colab": {
          "base_uri": "https://localhost:8080/",
          "height": 36
        }
      },
      "source": [
        "B*int(Zm3)"
      ],
      "execution_count": null,
      "outputs": [
        {
          "output_type": "execute_result",
          "data": {
            "application/vnd.google.colaboratory.intrinsic+json": {
              "type": "string"
            },
            "text/plain": [
              "'Ala ma kotaAla ma kotaAla ma kotaAla ma kotaAla ma kota'"
            ]
          },
          "metadata": {
            "tags": []
          },
          "execution_count": 45
        }
      ]
    },
    {
      "cell_type": "markdown",
      "metadata": {
        "id": "ShFsbgvslS-Q"
      },
      "source": [
        "- pojedynczy znak również jest typu string:"
      ]
    },
    {
      "cell_type": "code",
      "metadata": {
        "id": "dKd1Gl-8k5pi",
        "outputId": "90db72b8-c9da-48c3-c002-db9e39e7ce32",
        "colab": {
          "base_uri": "https://localhost:8080/",
          "height": 35
        }
      },
      "source": [
        "type(str(3))"
      ],
      "execution_count": null,
      "outputs": [
        {
          "output_type": "execute_result",
          "data": {
            "text/plain": [
              "str"
            ]
          },
          "metadata": {
            "tags": []
          },
          "execution_count": 46
        }
      ]
    },
    {
      "cell_type": "markdown",
      "metadata": {
        "id": "-68OwEmWKNU7"
      },
      "source": [
        "**Zadanie 7:**   \n",
        "\n",
        "Zamiana poszczególnych znaków w stringu"
      ]
    },
    {
      "cell_type": "code",
      "metadata": {
        "id": "zQLFncxqZIxp",
        "outputId": "a27c2fce-ed14-4ff2-8307-46d54267c616",
        "colab": {
          "base_uri": "https://localhost:8080/",
          "height": 36
        }
      },
      "source": [
        "Bnew = B \n",
        "Bnew = Bnew[:7] + \"3 \" + B[-4:-1] + \"y\"\n",
        "Bnew"
      ],
      "execution_count": null,
      "outputs": [
        {
          "output_type": "execute_result",
          "data": {
            "application/vnd.google.colaboratory.intrinsic+json": {
              "type": "string"
            },
            "text/plain": [
              "'Ala ma 3 koty'"
            ]
          },
          "metadata": {
            "tags": []
          },
          "execution_count": 23
        }
      ]
    },
    {
      "cell_type": "markdown",
      "metadata": {
        "id": "HuuycB6mNITj"
      },
      "source": [
        "***Zadanie 8:***"
      ]
    },
    {
      "cell_type": "code",
      "metadata": {
        "id": "EYjzPbgnNQmJ",
        "outputId": "134fc864-1a9f-412f-e0c1-8f61a58a4fe6",
        "colab": {
          "base_uri": "https://localhost:8080/",
          "height": 36
        }
      },
      "source": [
        "newB = B.replace(\"kota\", \"psy\")\n",
        "newB"
      ],
      "execution_count": null,
      "outputs": [
        {
          "output_type": "execute_result",
          "data": {
            "application/vnd.google.colaboratory.intrinsic+json": {
              "type": "string"
            },
            "text/plain": [
              "'Ala ma psy'"
            ]
          },
          "metadata": {
            "tags": []
          },
          "execution_count": 23
        }
      ]
    },
    {
      "cell_type": "markdown",
      "metadata": {
        "id": "AhhuKFPJVbkS"
      },
      "source": [
        "**Zadanie 12:**"
      ]
    },
    {
      "cell_type": "code",
      "metadata": {
        "id": "owl5MvDMVfom",
        "outputId": "ce49cec0-62c0-4b14-cb97-e6ceb42c7b51",
        "colab": {
          "base_uri": "https://localhost:8080/",
          "height": 35
        }
      },
      "source": [
        "b = 11.0\n",
        "B = \"Ala ma kota\"\n",
        "zm1 = 12\n",
        "zm2 = 4\n",
        "Zm3 = \"5\"\n",
        "test = [b, B, zm1, zm2, Zm3]\n",
        "test"
      ],
      "execution_count": null,
      "outputs": [
        {
          "output_type": "execute_result",
          "data": {
            "text/plain": [
              "[11.0, 'Ala ma kota', 12, 4, '5']"
            ]
          },
          "metadata": {
            "tags": []
          },
          "execution_count": 28
        }
      ]
    },
    {
      "cell_type": "markdown",
      "metadata": {
        "id": "VK143ziDV6Zo"
      },
      "source": [
        "- ilość elementów listy:"
      ]
    },
    {
      "cell_type": "code",
      "metadata": {
        "id": "dml7LJE8V3dR",
        "outputId": "e48927fb-6780-4c1b-bb16-821e2ec2cf16",
        "colab": {
          "base_uri": "https://localhost:8080/",
          "height": 35
        }
      },
      "source": [
        "len(test)"
      ],
      "execution_count": null,
      "outputs": [
        {
          "output_type": "execute_result",
          "data": {
            "text/plain": [
              "5"
            ]
          },
          "metadata": {
            "tags": []
          },
          "execution_count": 29
        }
      ]
    },
    {
      "cell_type": "code",
      "metadata": {
        "id": "8l5KCZTNV9cK",
        "outputId": "a8d5f3fd-9a4b-482f-8cbb-15de7dacf299",
        "colab": {
          "base_uri": "https://localhost:8080/",
          "height": 35
        }
      },
      "source": [
        "test[0]"
      ],
      "execution_count": null,
      "outputs": [
        {
          "output_type": "execute_result",
          "data": {
            "text/plain": [
              "11.0"
            ]
          },
          "metadata": {
            "tags": []
          },
          "execution_count": 30
        }
      ]
    },
    {
      "cell_type": "code",
      "metadata": {
        "id": "6nfPweeCWAUU",
        "outputId": "d10504d6-786c-4639-850d-5f6f0e7618f2",
        "colab": {
          "base_uri": "https://localhost:8080/",
          "height": 36
        }
      },
      "source": [
        "test[1]"
      ],
      "execution_count": null,
      "outputs": [
        {
          "output_type": "execute_result",
          "data": {
            "application/vnd.google.colaboratory.intrinsic+json": {
              "type": "string"
            },
            "text/plain": [
              "'Ala ma kota'"
            ]
          },
          "metadata": {
            "tags": []
          },
          "execution_count": 31
        }
      ]
    },
    {
      "cell_type": "markdown",
      "metadata": {
        "id": "mbj7jrZPWLNO"
      },
      "source": [
        "- odwołanie do elemntów listy od 3 do 6 (tego elemtu w liście nie ma):"
      ]
    },
    {
      "cell_type": "code",
      "metadata": {
        "id": "btIpuUazWCxP",
        "outputId": "ea8c3e41-38c1-4110-fd6f-31e6b7f6f52e",
        "colab": {
          "base_uri": "https://localhost:8080/",
          "height": 35
        }
      },
      "source": [
        "test[3:6]"
      ],
      "execution_count": null,
      "outputs": [
        {
          "output_type": "execute_result",
          "data": {
            "text/plain": [
              "[4, '5']"
            ]
          },
          "metadata": {
            "tags": []
          },
          "execution_count": 33
        }
      ]
    },
    {
      "cell_type": "markdown",
      "metadata": {
        "id": "KiMLzsJpWgwg"
      },
      "source": [
        "- odwołanie do elementów listy od 3 do końca:"
      ]
    },
    {
      "cell_type": "code",
      "metadata": {
        "id": "QrPSAwmMWb0j",
        "outputId": "d1422bee-1134-4c3f-c435-e553b858eeff",
        "colab": {
          "base_uri": "https://localhost:8080/",
          "height": 35
        }
      },
      "source": [
        "test[3:]"
      ],
      "execution_count": null,
      "outputs": [
        {
          "output_type": "execute_result",
          "data": {
            "text/plain": [
              "[4, '5']"
            ]
          },
          "metadata": {
            "tags": []
          },
          "execution_count": 34
        }
      ]
    },
    {
      "cell_type": "markdown",
      "metadata": {
        "id": "1vLZXz0mWxFQ"
      },
      "source": [
        "- odwołanie do wszystkich elementów listy przed indexem 6:"
      ]
    },
    {
      "cell_type": "code",
      "metadata": {
        "id": "SLGTjAexWf2W",
        "outputId": "89e9107a-069f-45bc-e423-21e9ea727304",
        "colab": {
          "base_uri": "https://localhost:8080/",
          "height": 35
        }
      },
      "source": [
        "test[:6]"
      ],
      "execution_count": null,
      "outputs": [
        {
          "output_type": "execute_result",
          "data": {
            "text/plain": [
              "[11.0, 'Ala ma kota', 12, 4, '5']"
            ]
          },
          "metadata": {
            "tags": []
          },
          "execution_count": 36
        }
      ]
    },
    {
      "cell_type": "markdown",
      "metadata": {
        "id": "XS288LK1W7Mt"
      },
      "source": [
        "- odwołanie do przedostatniego elementu listy:"
      ]
    },
    {
      "cell_type": "code",
      "metadata": {
        "id": "NQiljJX3W4UP",
        "outputId": "734de09f-be44-4082-f76c-534f564c69a6",
        "colab": {
          "base_uri": "https://localhost:8080/",
          "height": 35
        }
      },
      "source": [
        "test[-2]"
      ],
      "execution_count": null,
      "outputs": [
        {
          "output_type": "execute_result",
          "data": {
            "text/plain": [
              "4"
            ]
          },
          "metadata": {
            "tags": []
          },
          "execution_count": 37
        }
      ]
    },
    {
      "cell_type": "markdown",
      "metadata": {
        "id": "VnSXcVMSW_w6"
      },
      "source": [
        "**Zadanie 13:**"
      ]
    },
    {
      "cell_type": "code",
      "metadata": {
        "id": "mhBNnpyvXCr2",
        "outputId": "292fda7f-174f-4230-d2a6-bdbff5f6925c",
        "colab": {
          "base_uri": "https://localhost:8080/",
          "height": 35
        }
      },
      "source": [
        "test.append(121)\n",
        "test"
      ],
      "execution_count": null,
      "outputs": [
        {
          "output_type": "execute_result",
          "data": {
            "text/plain": [
              "[11.0, 'Ala ma kota', 12, 4, '5', 121]"
            ]
          },
          "metadata": {
            "tags": []
          },
          "execution_count": 38
        }
      ]
    },
    {
      "cell_type": "markdown",
      "metadata": {
        "id": "5bF7Zh_GXJmH"
      },
      "source": [
        "**Zadanie 14:**"
      ]
    },
    {
      "cell_type": "code",
      "metadata": {
        "id": "0fZvHX6CXMqU",
        "outputId": "0fa6e496-f153-453b-a1ee-1538774304d7",
        "colab": {
          "base_uri": "https://localhost:8080/",
          "height": 35
        }
      },
      "source": [
        "test2 = test + [1,2,3]\n",
        "test2"
      ],
      "execution_count": null,
      "outputs": [
        {
          "output_type": "execute_result",
          "data": {
            "text/plain": [
              "[11.0, 'Ala ma kota', 12, 4, '5', 121, 1, 2, 3]"
            ]
          },
          "metadata": {
            "tags": []
          },
          "execution_count": 39
        }
      ]
    },
    {
      "cell_type": "markdown",
      "metadata": {
        "id": "JWFHQS1wXbLG"
      },
      "source": [
        "**Zadanie 15:**"
      ]
    },
    {
      "cell_type": "code",
      "metadata": {
        "id": "9usKKG1XXaZT",
        "outputId": "e7a13b4e-fd45-44af-823e-e41a90182a7e",
        "colab": {
          "base_uri": "https://localhost:8080/",
          "height": 35
        }
      },
      "source": [
        "test2[0] = \"Lodz\"\n",
        "test2[1] = 77\n",
        "test2"
      ],
      "execution_count": null,
      "outputs": [
        {
          "output_type": "execute_result",
          "data": {
            "text/plain": [
              "['Lodz', 77, 12, 4, '5', 121, 1, 2, 3]"
            ]
          },
          "metadata": {
            "tags": []
          },
          "execution_count": 40
        }
      ]
    },
    {
      "cell_type": "markdown",
      "metadata": {
        "id": "GOGaZL-AXw1c"
      },
      "source": [
        "**Zadanie 16:**\n",
        "\n",
        "Sprawdzanie, czy dany element należy do listy:"
      ]
    },
    {
      "cell_type": "code",
      "metadata": {
        "id": "2D4U9xNJXzoI",
        "outputId": "b160c78a-f92f-47a5-bcff-368c25c1f4ad",
        "colab": {
          "base_uri": "https://localhost:8080/",
          "height": 35
        }
      },
      "source": [
        "12 in test2"
      ],
      "execution_count": null,
      "outputs": [
        {
          "output_type": "execute_result",
          "data": {
            "text/plain": [
              "True"
            ]
          },
          "metadata": {
            "tags": []
          },
          "execution_count": 41
        }
      ]
    },
    {
      "cell_type": "code",
      "metadata": {
        "id": "6bTbB9xtX3jB",
        "outputId": "a1ce4f9f-b973-46a2-b57b-b236154959b8",
        "colab": {
          "base_uri": "https://localhost:8080/",
          "height": 35
        }
      },
      "source": [
        "100 in test2"
      ],
      "execution_count": null,
      "outputs": [
        {
          "output_type": "execute_result",
          "data": {
            "text/plain": [
              "False"
            ]
          },
          "metadata": {
            "tags": []
          },
          "execution_count": 42
        }
      ]
    },
    {
      "cell_type": "markdown",
      "metadata": {
        "id": "hlaEDIy2X_3z"
      },
      "source": [
        "**Zadanie 17:**"
      ]
    },
    {
      "cell_type": "code",
      "metadata": {
        "id": "JksEltw5YCdZ",
        "outputId": "b8d2a4fd-b3f3-46a8-a998-c259e528c591",
        "colab": {
          "base_uri": "https://localhost:8080/",
          "height": 182
        }
      },
      "source": [
        "for i in range(0, 9, 1):\n",
        "  print(i)"
      ],
      "execution_count": null,
      "outputs": [
        {
          "output_type": "stream",
          "text": [
            "0\n",
            "1\n",
            "2\n",
            "3\n",
            "4\n",
            "5\n",
            "6\n",
            "7\n",
            "8\n"
          ],
          "name": "stdout"
        }
      ]
    },
    {
      "cell_type": "markdown",
      "metadata": {
        "id": "ny6rIXbFZORJ"
      },
      "source": [
        "**Zadanie 18:**"
      ]
    },
    {
      "cell_type": "code",
      "metadata": {
        "id": "ZCf_HLMaY7ic",
        "outputId": "7655000e-dcd0-4270-9d6f-97facf88fd44",
        "colab": {
          "base_uri": "https://localhost:8080/",
          "height": 109
        }
      },
      "source": [
        "for i in range(0, 15, 3):\n",
        "  print(i)"
      ],
      "execution_count": null,
      "outputs": [
        {
          "output_type": "stream",
          "text": [
            "0\n",
            "3\n",
            "6\n",
            "9\n",
            "12\n"
          ],
          "name": "stdout"
        }
      ]
    },
    {
      "cell_type": "markdown",
      "metadata": {
        "id": "CjQu3iSWZjtM"
      },
      "source": [
        "**Zadanie 19:**"
      ]
    },
    {
      "cell_type": "code",
      "metadata": {
        "id": "5bOdn-qCZjRm",
        "outputId": "c859e237-0ea2-4b1c-b0e9-9f3201194337",
        "colab": {
          "base_uri": "https://localhost:8080/",
          "height": 127
        }
      },
      "source": [
        "for i in range(-9, 1, 1):\n",
        "  if (i % 2) == 1:\n",
        "    print(i) \n",
        "  if i == 0:\n",
        "    print(0)  "
      ],
      "execution_count": null,
      "outputs": [
        {
          "output_type": "stream",
          "text": [
            "-9\n",
            "-7\n",
            "-5\n",
            "-3\n",
            "-1\n",
            "0\n"
          ],
          "name": "stdout"
        }
      ]
    },
    {
      "cell_type": "code",
      "metadata": {
        "id": "NmtnmOP8bOqi",
        "outputId": "4a048d5d-086a-4947-e6c6-57ff0cc67f8c",
        "colab": {
          "base_uri": "https://localhost:8080/",
          "height": 127
        }
      },
      "source": [
        "for i in [-9, -7, -5, -3, 1 ,0]:\n",
        "  print(i)"
      ],
      "execution_count": null,
      "outputs": [
        {
          "output_type": "stream",
          "text": [
            "-9\n",
            "-7\n",
            "-5\n",
            "-3\n",
            "1\n",
            "0\n"
          ],
          "name": "stdout"
        }
      ]
    },
    {
      "cell_type": "markdown",
      "metadata": {
        "id": "2rMAp8KBgHfh"
      },
      "source": [
        "**Zadanie 25**\n",
        "\n",
        "Funkcja potęga:"
      ]
    },
    {
      "cell_type": "code",
      "metadata": {
        "id": "XpdigAOcgQ86",
        "outputId": "7928dc50-b4f6-467c-b091-c6bc6a083c0c",
        "colab": {
          "base_uri": "https://localhost:8080/",
          "height": 35
        }
      },
      "source": [
        "def potega(a, b):\n",
        "  return float(a)**float(b)\n",
        "\n",
        "potega(3, 4.26)  "
      ],
      "execution_count": null,
      "outputs": [
        {
          "output_type": "execute_result",
          "data": {
            "text/plain": [
              "107.77959444842044"
            ]
          },
          "metadata": {
            "tags": []
          },
          "execution_count": 28
        }
      ]
    },
    {
      "cell_type": "markdown",
      "metadata": {
        "id": "tX5EupEvgvLp"
      },
      "source": [
        "**Zadanie 26**\n",
        "\n",
        "Funkcja zwracająca maksymalny element listy:"
      ]
    },
    {
      "cell_type": "code",
      "metadata": {
        "id": "PIH6LE2eg3gt",
        "outputId": "1a3cb68e-cd73-45dc-b6e1-7be9eb1ad4bd",
        "colab": {
          "base_uri": "https://localhost:8080/",
          "height": 35
        }
      },
      "source": [
        "a = [-4, -20, 34578678678678, 23, 345]\n",
        "\n",
        "def maxOfList(a):\n",
        "  for i in range(0, len(a), 1):\n",
        "    if i == 0:\n",
        "      maxVal = a[0]\n",
        "    if a[i] > maxVal:\n",
        "      maxVal = a[i]\n",
        "  return maxVal\n",
        "\n",
        "maxOfList(a)        \n"
      ],
      "execution_count": null,
      "outputs": [
        {
          "output_type": "execute_result",
          "data": {
            "text/plain": [
              "34578678678678"
            ]
          },
          "metadata": {
            "tags": []
          },
          "execution_count": 36
        }
      ]
    },
    {
      "cell_type": "markdown",
      "metadata": {
        "id": "rvT4-U1djEbE"
      },
      "source": [
        "**Zadanie 27**\n",
        "\n",
        "Funkcja zwracająca maksymalny element listy oraz sumę jej elementów:"
      ]
    },
    {
      "cell_type": "code",
      "metadata": {
        "id": "U1cJbH5MjLJG",
        "outputId": "7ebc9aef-b01d-44b5-8725-aa48f0f33bbe",
        "colab": {
          "base_uri": "https://localhost:8080/",
          "height": 35
        }
      },
      "source": [
        "a = [-4, -2, 4, 2, 345, -47]\n",
        "\n",
        "def info_lista(a):\n",
        "  suma = 0\n",
        "\n",
        "  for i in range(0, len(a), 1):\n",
        "    suma += a[i]\n",
        "\n",
        "    if i == 0:\n",
        "      maxVal = a[0]\n",
        "    if a[i] > maxVal:\n",
        "      maxVal = a[i]\n",
        "  \n",
        "  return (maxVal, suma)\n",
        "\n",
        "print(\"Największy element listy i suma jej elementów to kolejno: \", info_lista(a))    "
      ],
      "execution_count": null,
      "outputs": [
        {
          "output_type": "stream",
          "text": [
            "Największy element listy i suma jej elementów to kolejno:  (345, 298)\n"
          ],
          "name": "stdout"
        }
      ]
    }
  ]
}