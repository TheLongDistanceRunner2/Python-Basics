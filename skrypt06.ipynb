{
  "nbformat": 4,
  "nbformat_minor": 0,
  "metadata": {
    "colab": {
      "name": "skrypt06.ipynb",
      "provenance": [],
      "collapsed_sections": []
    },
    "kernelspec": {
      "name": "python3",
      "display_name": "Python 3"
    }
  },
  "cells": [
    {
      "cell_type": "markdown",
      "metadata": {
        "id": "HiWJWp2siOCR"
      },
      "source": [
        "**Zadanie 22**\n",
        "\n",
        "Wprowadzenie 10 liczb z klawiatury i wypisanie największej z nich:\n",
        "\n"
      ]
    },
    {
      "cell_type": "code",
      "metadata": {
        "id": "d2IVLZi3iKMa",
        "outputId": "2ae40eb6-b040-420d-c839-c70676ddc96b",
        "colab": {
          "base_uri": "https://localhost:8080/",
          "height": 219
        }
      },
      "source": [
        "for i in range(0, 10, 1):\n",
        "  inp = input(\"Wprowadź liczbę: \")\n",
        "  \n",
        "  if i == 0:\n",
        "    tmp = inp\n",
        "\n",
        "  if (int(inp) > int(tmp)):\n",
        "    tmp = inp\n",
        "    \n",
        "print(\"Maksymalny element to: \", tmp)"
      ],
      "execution_count": null,
      "outputs": [
        {
          "output_type": "stream",
          "text": [
            "Wprowadź liczbę: 1\n",
            "Wprowadź liczbę: 23\n",
            "Wprowadź liczbę: 234234234\n",
            "Wprowadź liczbę: 2\n",
            "Wprowadź liczbę: 3\n",
            "Wprowadź liczbę: 4\n",
            "Wprowadź liczbę: 5\n",
            "Wprowadź liczbę: 6\n",
            "Wprowadź liczbę: 7\n",
            "Wprowadź liczbę: 8\n",
            "Maksymalny element to:  234234234\n"
          ],
          "name": "stdout"
        }
      ]
    },
    {
      "cell_type": "markdown",
      "metadata": {
        "id": "4je4b-bpdAuA"
      },
      "source": [
        "**Zadanie 23**"
      ]
    },
    {
      "cell_type": "code",
      "metadata": {
        "id": "lwicM3H6cL64",
        "outputId": "75dac863-696b-4e55-d5af-f6753a39208f",
        "colab": {
          "base_uri": "https://localhost:8080/",
          "height": 219
        }
      },
      "source": [
        "i = 0\n",
        "\n",
        "while i < 10:\n",
        "  i += 1  \n",
        "  inp = input(\"Wprowadź liczbę: \")\n",
        "\n",
        "  if i == 0:\n",
        "    tmp = inp\n",
        "\n",
        "  if (int(inp) > int(tmp)):\n",
        "    tmp = inp\n",
        "\n",
        "print(\"Maksymalny element to: \", tmp)\n"
      ],
      "execution_count": null,
      "outputs": [
        {
          "output_type": "stream",
          "text": [
            "Wprowadź liczbę: 23\n",
            "Wprowadź liczbę: 234234234\n",
            "Wprowadź liczbę: 1\n",
            "Wprowadź liczbę: 2\n",
            "Wprowadź liczbę: 23\n",
            "Wprowadź liczbę: 2\n",
            "Wprowadź liczbę: 3\n",
            "Wprowadź liczbę: 4\n",
            "Wprowadź liczbę: 5\n",
            "Wprowadź liczbę: 6\n",
            "Maksymalny element to:  234234234\n"
          ],
          "name": "stdout"
        }
      ]
    }
  ]
}