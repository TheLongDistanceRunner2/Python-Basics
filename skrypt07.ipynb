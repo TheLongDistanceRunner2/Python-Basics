{
  "nbformat": 4,
  "nbformat_minor": 0,
  "metadata": {
    "colab": {
      "name": "skrypt07.ipynb",
      "provenance": [],
      "collapsed_sections": []
    },
    "kernelspec": {
      "name": "python3",
      "display_name": "Python 3"
    }
  },
  "cells": [
    {
      "cell_type": "markdown",
      "metadata": {
        "id": "gO9waDkhdVUJ"
      },
      "source": [
        "**Zadanie 24**\n",
        "\n",
        "Obliczanie a^b:"
      ]
    },
    {
      "cell_type": "code",
      "metadata": {
        "id": "Dqyi4BwzdPDi",
        "outputId": "3bc9a03c-bb30-48bc-f520-fd7382e98c2d",
        "colab": {
          "base_uri": "https://localhost:8080/",
          "height": 72
        }
      },
      "source": [
        "a = input(\"Wprowadz a: \")\n",
        "b = input(\"Wprowadz b: \")\n",
        "print(float(a)**float(b))"
      ],
      "execution_count": null,
      "outputs": [
        {
          "output_type": "stream",
          "text": [
            "Wprowadz a: 3\n",
            "Wprowadz b: 4.26\n",
            "107.77959444842044\n"
          ],
          "name": "stdout"
        }
      ]
    }
  ]
}